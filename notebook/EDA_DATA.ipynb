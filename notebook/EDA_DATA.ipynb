{
 "cells": [
  {
   "cell_type": "code",
   "execution_count": 45,
   "id": "367e375b",
   "metadata": {},
   "outputs": [],
   "source": [
    "import pandas as pd"
   ]
  },
  {
   "cell_type": "code",
   "execution_count": 67,
   "id": "19609263",
   "metadata": {},
   "outputs": [],
   "source": [
    "#import data\n",
    "df = pd.read_csv('../telegram_data.csv')"
   ]
  },
  {
   "cell_type": "code",
   "execution_count": 47,
   "id": "5fdf20dd",
   "metadata": {},
   "outputs": [
    {
     "data": {
      "text/plain": [
       "Index(['Channel Title', 'Channel Username', 'ID', 'Message', 'Date',\n",
       "       'Media Path'],\n",
       "      dtype='object')"
      ]
     },
     "execution_count": 47,
     "metadata": {},
     "output_type": "execute_result"
    }
   ],
   "source": [
    "df.columns"
   ]
  },
  {
   "cell_type": "code",
   "execution_count": 48,
   "id": "8d0033e1",
   "metadata": {},
   "outputs": [
    {
     "data": {
      "text/html": [
       "<div>\n",
       "<style scoped>\n",
       "    .dataframe tbody tr th:only-of-type {\n",
       "        vertical-align: middle;\n",
       "    }\n",
       "\n",
       "    .dataframe tbody tr th {\n",
       "        vertical-align: top;\n",
       "    }\n",
       "\n",
       "    .dataframe thead th {\n",
       "        text-align: right;\n",
       "    }\n",
       "</style>\n",
       "<table border=\"1\" class=\"dataframe\">\n",
       "  <thead>\n",
       "    <tr style=\"text-align: right;\">\n",
       "      <th></th>\n",
       "      <th>Channel Title</th>\n",
       "      <th>Channel Username</th>\n",
       "      <th>ID</th>\n",
       "      <th>Message</th>\n",
       "      <th>Date</th>\n",
       "      <th>Media Path</th>\n",
       "    </tr>\n",
       "  </thead>\n",
       "  <tbody>\n",
       "    <tr>\n",
       "      <th>0</th>\n",
       "      <td>Sheger online-store</td>\n",
       "      <td>@Shageronlinestore</td>\n",
       "      <td>7383</td>\n",
       "      <td>💥Miralux Hot plate\\n ባለሁለት ምድጃ ስቶቭ\\n\\n      💯o...</td>\n",
       "      <td>2025-06-19 06:31:31+00:00</td>\n",
       "      <td>data/photos/@Shageronlinestore_7383.jpg</td>\n",
       "    </tr>\n",
       "    <tr>\n",
       "      <th>1</th>\n",
       "      <td>Sheger online-store</td>\n",
       "      <td>@Shageronlinestore</td>\n",
       "      <td>7382</td>\n",
       "      <td>💥7pcs glass water set\\n\\n✔️ አንድ ማራኪ ጆግና 6 መጠጫ ...</td>\n",
       "      <td>2025-06-18 11:19:11+00:00</td>\n",
       "      <td>data/photos/@Shageronlinestore_7382.jpg</td>\n",
       "    </tr>\n",
       "    <tr>\n",
       "      <th>2</th>\n",
       "      <td>Sheger online-store</td>\n",
       "      <td>@Shageronlinestore</td>\n",
       "      <td>7381</td>\n",
       "      <td>NaN</td>\n",
       "      <td>2025-06-18 11:19:11+00:00</td>\n",
       "      <td>data/photos/@Shageronlinestore_7381.jpg</td>\n",
       "    </tr>\n",
       "    <tr>\n",
       "      <th>3</th>\n",
       "      <td>Sheger online-store</td>\n",
       "      <td>@Shageronlinestore</td>\n",
       "      <td>7380</td>\n",
       "      <td>NaN</td>\n",
       "      <td>2025-06-18 11:19:11+00:00</td>\n",
       "      <td>data/photos/@Shageronlinestore_7380.jpg</td>\n",
       "    </tr>\n",
       "    <tr>\n",
       "      <th>4</th>\n",
       "      <td>Sheger online-store</td>\n",
       "      <td>@Shageronlinestore</td>\n",
       "      <td>7379</td>\n",
       "      <td>NaN</td>\n",
       "      <td>2025-06-18 11:19:11+00:00</td>\n",
       "      <td>data/photos/@Shageronlinestore_7379.jpg</td>\n",
       "    </tr>\n",
       "  </tbody>\n",
       "</table>\n",
       "</div>"
      ],
      "text/plain": [
       "         Channel Title    Channel Username    ID  \\\n",
       "0  Sheger online-store  @Shageronlinestore  7383   \n",
       "1  Sheger online-store  @Shageronlinestore  7382   \n",
       "2  Sheger online-store  @Shageronlinestore  7381   \n",
       "3  Sheger online-store  @Shageronlinestore  7380   \n",
       "4  Sheger online-store  @Shageronlinestore  7379   \n",
       "\n",
       "                                             Message  \\\n",
       "0  💥Miralux Hot plate\\n ባለሁለት ምድጃ ስቶቭ\\n\\n      💯o...   \n",
       "1  💥7pcs glass water set\\n\\n✔️ አንድ ማራኪ ጆግና 6 መጠጫ ...   \n",
       "2                                                NaN   \n",
       "3                                                NaN   \n",
       "4                                                NaN   \n",
       "\n",
       "                        Date                               Media Path  \n",
       "0  2025-06-19 06:31:31+00:00  data/photos/@Shageronlinestore_7383.jpg  \n",
       "1  2025-06-18 11:19:11+00:00  data/photos/@Shageronlinestore_7382.jpg  \n",
       "2  2025-06-18 11:19:11+00:00  data/photos/@Shageronlinestore_7381.jpg  \n",
       "3  2025-06-18 11:19:11+00:00  data/photos/@Shageronlinestore_7380.jpg  \n",
       "4  2025-06-18 11:19:11+00:00  data/photos/@Shageronlinestore_7379.jpg  "
      ]
     },
     "execution_count": 48,
     "metadata": {},
     "output_type": "execute_result"
    }
   ],
   "source": [
    "df.head()"
   ]
  },
  {
   "cell_type": "code",
   "execution_count": 49,
   "id": "3dc0d35a",
   "metadata": {},
   "outputs": [
    {
     "data": {
      "text/plain": [
       "array(['Sheger online-store', 'ልዩ እቃ', 'SINA KIDS/ሲና ኪድስⓇ', 'ማራኪ ცЯﾑŋの™',\n",
       "       'qnash.com - ቅናሽ ®️', 'ምርጥ ዕቃ'], dtype=object)"
      ]
     },
     "execution_count": 49,
     "metadata": {},
     "output_type": "execute_result"
    }
   ],
   "source": [
    "df[\"Channel Title\"].unique()"
   ]
  },
  {
   "cell_type": "code",
   "execution_count": 71,
   "id": "61412dbe",
   "metadata": {},
   "outputs": [
    {
     "data": {
      "text/plain": [
       "np.int64(19190)"
      ]
     },
     "execution_count": 71,
     "metadata": {},
     "output_type": "execute_result"
    }
   ],
   "source": [
    "df[\"Message\"].notnull().sum()\n",
    "\n"
   ]
  },
  {
   "cell_type": "code",
   "execution_count": 51,
   "id": "d5ba6e1c",
   "metadata": {},
   "outputs": [
    {
     "data": {
      "text/plain": [
       "(35168, 6)"
      ]
     },
     "execution_count": 51,
     "metadata": {},
     "output_type": "execute_result"
    }
   ],
   "source": [
    "df.shape"
   ]
  },
  {
   "cell_type": "code",
   "execution_count": 52,
   "id": "2f943956",
   "metadata": {},
   "outputs": [],
   "source": [
    "#drop rows with empty messages\n",
    "df = df[df[\"Message\"].notnull()]"
   ]
  },
  {
   "cell_type": "code",
   "execution_count": 53,
   "id": "6d43fd94",
   "metadata": {},
   "outputs": [
    {
     "name": "stdout",
     "output_type": "stream",
     "text": [
      "0    💥Miralux Hot plate\\n ባለሁለት ምድጃ ስቶቭ\\n\\n      💯o...\n",
      "Name: Message, dtype: object\n"
     ]
    }
   ],
   "source": [
    "first = df[\"Message\"].head(1)\n",
    "print(first)"
   ]
  },
  {
   "cell_type": "code",
   "execution_count": 54,
   "id": "cc832bd0",
   "metadata": {},
   "outputs": [],
   "source": [
    "# remove new line from Message\n",
    "df[\"Message\"] = df[\"Message\"].str.replace(\"\\n\", \" \", regex=False)"
   ]
  },
  {
   "cell_type": "code",
   "execution_count": 55,
   "id": "104abad6",
   "metadata": {},
   "outputs": [],
   "source": [
    "# remove emojis and  special characters\n",
    "df[\"Message\"] = df[\"Message\"].str.replace(r\"[^\\w\\s]\", \"\", regex=True)"
   ]
  },
  {
   "cell_type": "code",
   "execution_count": 56,
   "id": "7951fdcb",
   "metadata": {},
   "outputs": [],
   "source": [
    "# remove non Amharic characters and numbers\n",
    "df[\"Message\"] = df[\"Message\"].str.replace(r\"[^\\u1200-\\u137F\\s0-9]\", \"\", regex=True)"
   ]
  },
  {
   "cell_type": "code",
   "execution_count": 57,
   "id": "bb363a2c",
   "metadata": {},
   "outputs": [],
   "source": [
    "#Tokenize the messages\n",
    "df[\"Message\"] = df[\"Message\"].str.split()\n"
   ]
  },
  {
   "cell_type": "code",
   "execution_count": 62,
   "id": "5301d1fd",
   "metadata": {},
   "outputs": [],
   "source": [
    "# drop rows if if there is no amharic text\n",
    "df = df[df[\"Message\"].apply(lambda x: any('\\u1200' <= char <= '\\u137F' for char in x))]"
   ]
  },
  {
   "cell_type": "code",
   "execution_count": 63,
   "id": "18aafbb6",
   "metadata": {},
   "outputs": [],
   "source": [
    "#save the cleaned data\n",
    "df.to_csv('../data/telegram_data_cleaned.csv', index=False)"
   ]
  },
  {
   "cell_type": "code",
   "execution_count": 59,
   "id": "18605747",
   "metadata": {},
   "outputs": [
    {
     "data": {
      "text/plain": [
       "<Axes: xlabel='Channel Title'>"
      ]
     },
     "execution_count": 59,
     "metadata": {},
     "output_type": "execute_result"
    },
    {
     "name": "stderr",
     "output_type": "stream",
     "text": [
      "/home/sasa/Documents/code/KIAM/week4/venv/lib64/python3.13/site-packages/IPython/core/events.py:82: UserWarning: Glyph 4637 (\\N{ETHIOPIC SYLLABLE ME}) missing from font(s) DejaVu Sans.\n",
      "  func(*args, **kwargs)\n",
      "/home/sasa/Documents/code/KIAM/week4/venv/lib64/python3.13/site-packages/IPython/core/events.py:82: UserWarning: Glyph 4653 (\\N{ETHIOPIC SYLLABLE RE}) missing from font(s) DejaVu Sans.\n",
      "  func(*args, **kwargs)\n",
      "/home/sasa/Documents/code/KIAM/week4/venv/lib64/python3.13/site-packages/IPython/core/events.py:82: UserWarning: Glyph 4901 (\\N{ETHIOPIC SYLLABLE THE}) missing from font(s) DejaVu Sans.\n",
      "  func(*args, **kwargs)\n",
      "/home/sasa/Documents/code/KIAM/week4/venv/lib64/python3.13/site-packages/IPython/core/events.py:82: UserWarning: Glyph 4821 (\\N{ETHIOPIC SYLLABLE PHARYNGEAL E}) missing from font(s) DejaVu Sans.\n",
      "  func(*args, **kwargs)\n",
      "/home/sasa/Documents/code/KIAM/week4/venv/lib64/python3.13/site-packages/IPython/core/events.py:82: UserWarning: Glyph 4675 (\\N{ETHIOPIC SYLLABLE QAA}) missing from font(s) DejaVu Sans.\n",
      "  func(*args, **kwargs)\n",
      "/home/sasa/Documents/code/KIAM/week4/venv/lib64/python3.13/site-packages/IPython/core/events.py:82: UserWarning: Glyph 4635 (\\N{ETHIOPIC SYLLABLE MAA}) missing from font(s) DejaVu Sans.\n",
      "  func(*args, **kwargs)\n",
      "/home/sasa/Documents/code/KIAM/week4/venv/lib64/python3.13/site-packages/IPython/core/events.py:82: UserWarning: Glyph 4651 (\\N{ETHIOPIC SYLLABLE RAA}) missing from font(s) DejaVu Sans.\n",
      "  func(*args, **kwargs)\n",
      "/home/sasa/Documents/code/KIAM/week4/venv/lib64/python3.13/site-packages/IPython/core/events.py:82: UserWarning: Glyph 4778 (\\N{ETHIOPIC SYLLABLE KI}) missing from font(s) DejaVu Sans.\n",
      "  func(*args, **kwargs)\n",
      "/home/sasa/Documents/code/KIAM/week4/venv/lib64/python3.13/site-packages/IPython/core/events.py:82: UserWarning: Glyph 65425 (\\N{HALFWIDTH KATAKANA LETTER MU}) missing from font(s) DejaVu Sans.\n",
      "  func(*args, **kwargs)\n",
      "/home/sasa/Documents/code/KIAM/week4/venv/lib64/python3.13/site-packages/IPython/core/events.py:82: UserWarning: Glyph 12398 (\\N{HIRAGANA LETTER NO}) missing from font(s) DejaVu Sans.\n",
      "  func(*args, **kwargs)\n",
      "/home/sasa/Documents/code/KIAM/week4/venv/lib64/python3.13/site-packages/IPython/core/events.py:82: UserWarning: Glyph 4677 (\\N{ETHIOPIC SYLLABLE QE}) missing from font(s) DejaVu Sans.\n",
      "  func(*args, **kwargs)\n",
      "/home/sasa/Documents/code/KIAM/week4/venv/lib64/python3.13/site-packages/IPython/core/events.py:82: UserWarning: Glyph 4755 (\\N{ETHIOPIC SYLLABLE NAA}) missing from font(s) DejaVu Sans.\n",
      "  func(*args, **kwargs)\n",
      "/home/sasa/Documents/code/KIAM/week4/venv/lib64/python3.13/site-packages/IPython/core/events.py:82: UserWarning: Glyph 4669 (\\N{ETHIOPIC SYLLABLE SHE}) missing from font(s) DejaVu Sans.\n",
      "  func(*args, **kwargs)\n",
      "/home/sasa/Documents/code/KIAM/week4/venv/lib64/python3.13/site-packages/IPython/core/events.py:82: UserWarning: Glyph 4621 (\\N{ETHIOPIC SYLLABLE LE}) missing from font(s) DejaVu Sans.\n",
      "  func(*args, **kwargs)\n",
      "/home/sasa/Documents/code/KIAM/week4/venv/lib64/python3.13/site-packages/IPython/core/events.py:82: UserWarning: Glyph 4841 (\\N{ETHIOPIC SYLLABLE YU}) missing from font(s) DejaVu Sans.\n",
      "  func(*args, **kwargs)\n",
      "/home/sasa/Documents/code/KIAM/week4/venv/lib64/python3.13/site-packages/IPython/core/events.py:82: UserWarning: Glyph 4773 (\\N{ETHIOPIC SYLLABLE GLOTTAL E}) missing from font(s) DejaVu Sans.\n",
      "  func(*args, **kwargs)\n",
      "/home/sasa/Documents/code/KIAM/week4/venv/lib64/python3.13/site-packages/IPython/core/events.py:82: UserWarning: Glyph 4658 (\\N{ETHIOPIC SYLLABLE SI}) missing from font(s) DejaVu Sans.\n",
      "  func(*args, **kwargs)\n",
      "/home/sasa/Documents/code/KIAM/week4/venv/lib64/python3.13/site-packages/IPython/core/events.py:82: UserWarning: Glyph 4853 (\\N{ETHIOPIC SYLLABLE DE}) missing from font(s) DejaVu Sans.\n",
      "  func(*args, **kwargs)\n",
      "/home/sasa/Documents/code/KIAM/week4/venv/lib64/python3.13/site-packages/IPython/core/events.py:82: UserWarning: Glyph 4661 (\\N{ETHIOPIC SYLLABLE SE}) missing from font(s) DejaVu Sans.\n",
      "  func(*args, **kwargs)\n",
      "/home/sasa/Documents/code/KIAM/week4/venv/lib64/python3.13/site-packages/IPython/core/events.py:82: UserWarning: Glyph 9415 (\\N{CIRCLED LATIN CAPITAL LETTER R}) missing from font(s) DejaVu Sans.\n",
      "  func(*args, **kwargs)\n",
      "/home/sasa/Documents/code/KIAM/week4/venv/lib64/python3.13/site-packages/IPython/core/pylabtools.py:170: UserWarning: Glyph 4637 (\\N{ETHIOPIC SYLLABLE ME}) missing from font(s) DejaVu Sans.\n",
      "  fig.canvas.print_figure(bytes_io, **kw)\n",
      "/home/sasa/Documents/code/KIAM/week4/venv/lib64/python3.13/site-packages/IPython/core/pylabtools.py:170: UserWarning: Glyph 4653 (\\N{ETHIOPIC SYLLABLE RE}) missing from font(s) DejaVu Sans.\n",
      "  fig.canvas.print_figure(bytes_io, **kw)\n",
      "/home/sasa/Documents/code/KIAM/week4/venv/lib64/python3.13/site-packages/IPython/core/pylabtools.py:170: UserWarning: Glyph 4901 (\\N{ETHIOPIC SYLLABLE THE}) missing from font(s) DejaVu Sans.\n",
      "  fig.canvas.print_figure(bytes_io, **kw)\n",
      "/home/sasa/Documents/code/KIAM/week4/venv/lib64/python3.13/site-packages/IPython/core/pylabtools.py:170: UserWarning: Glyph 4821 (\\N{ETHIOPIC SYLLABLE PHARYNGEAL E}) missing from font(s) DejaVu Sans.\n",
      "  fig.canvas.print_figure(bytes_io, **kw)\n",
      "/home/sasa/Documents/code/KIAM/week4/venv/lib64/python3.13/site-packages/IPython/core/pylabtools.py:170: UserWarning: Glyph 4675 (\\N{ETHIOPIC SYLLABLE QAA}) missing from font(s) DejaVu Sans.\n",
      "  fig.canvas.print_figure(bytes_io, **kw)\n",
      "/home/sasa/Documents/code/KIAM/week4/venv/lib64/python3.13/site-packages/IPython/core/pylabtools.py:170: UserWarning: Glyph 4635 (\\N{ETHIOPIC SYLLABLE MAA}) missing from font(s) DejaVu Sans.\n",
      "  fig.canvas.print_figure(bytes_io, **kw)\n",
      "/home/sasa/Documents/code/KIAM/week4/venv/lib64/python3.13/site-packages/IPython/core/pylabtools.py:170: UserWarning: Glyph 4651 (\\N{ETHIOPIC SYLLABLE RAA}) missing from font(s) DejaVu Sans.\n",
      "  fig.canvas.print_figure(bytes_io, **kw)\n",
      "/home/sasa/Documents/code/KIAM/week4/venv/lib64/python3.13/site-packages/IPython/core/pylabtools.py:170: UserWarning: Glyph 4778 (\\N{ETHIOPIC SYLLABLE KI}) missing from font(s) DejaVu Sans.\n",
      "  fig.canvas.print_figure(bytes_io, **kw)\n",
      "/home/sasa/Documents/code/KIAM/week4/venv/lib64/python3.13/site-packages/IPython/core/pylabtools.py:170: UserWarning: Glyph 65425 (\\N{HALFWIDTH KATAKANA LETTER MU}) missing from font(s) DejaVu Sans.\n",
      "  fig.canvas.print_figure(bytes_io, **kw)\n",
      "/home/sasa/Documents/code/KIAM/week4/venv/lib64/python3.13/site-packages/IPython/core/pylabtools.py:170: UserWarning: Glyph 12398 (\\N{HIRAGANA LETTER NO}) missing from font(s) DejaVu Sans.\n",
      "  fig.canvas.print_figure(bytes_io, **kw)\n",
      "/home/sasa/Documents/code/KIAM/week4/venv/lib64/python3.13/site-packages/IPython/core/pylabtools.py:170: UserWarning: Glyph 4677 (\\N{ETHIOPIC SYLLABLE QE}) missing from font(s) DejaVu Sans.\n",
      "  fig.canvas.print_figure(bytes_io, **kw)\n",
      "/home/sasa/Documents/code/KIAM/week4/venv/lib64/python3.13/site-packages/IPython/core/pylabtools.py:170: UserWarning: Glyph 4755 (\\N{ETHIOPIC SYLLABLE NAA}) missing from font(s) DejaVu Sans.\n",
      "  fig.canvas.print_figure(bytes_io, **kw)\n",
      "/home/sasa/Documents/code/KIAM/week4/venv/lib64/python3.13/site-packages/IPython/core/pylabtools.py:170: UserWarning: Glyph 4669 (\\N{ETHIOPIC SYLLABLE SHE}) missing from font(s) DejaVu Sans.\n",
      "  fig.canvas.print_figure(bytes_io, **kw)\n",
      "/home/sasa/Documents/code/KIAM/week4/venv/lib64/python3.13/site-packages/IPython/core/pylabtools.py:170: UserWarning: Glyph 4621 (\\N{ETHIOPIC SYLLABLE LE}) missing from font(s) DejaVu Sans.\n",
      "  fig.canvas.print_figure(bytes_io, **kw)\n",
      "/home/sasa/Documents/code/KIAM/week4/venv/lib64/python3.13/site-packages/IPython/core/pylabtools.py:170: UserWarning: Glyph 4841 (\\N{ETHIOPIC SYLLABLE YU}) missing from font(s) DejaVu Sans.\n",
      "  fig.canvas.print_figure(bytes_io, **kw)\n",
      "/home/sasa/Documents/code/KIAM/week4/venv/lib64/python3.13/site-packages/IPython/core/pylabtools.py:170: UserWarning: Glyph 4773 (\\N{ETHIOPIC SYLLABLE GLOTTAL E}) missing from font(s) DejaVu Sans.\n",
      "  fig.canvas.print_figure(bytes_io, **kw)\n",
      "/home/sasa/Documents/code/KIAM/week4/venv/lib64/python3.13/site-packages/IPython/core/pylabtools.py:170: UserWarning: Glyph 4658 (\\N{ETHIOPIC SYLLABLE SI}) missing from font(s) DejaVu Sans.\n",
      "  fig.canvas.print_figure(bytes_io, **kw)\n",
      "/home/sasa/Documents/code/KIAM/week4/venv/lib64/python3.13/site-packages/IPython/core/pylabtools.py:170: UserWarning: Glyph 4853 (\\N{ETHIOPIC SYLLABLE DE}) missing from font(s) DejaVu Sans.\n",
      "  fig.canvas.print_figure(bytes_io, **kw)\n",
      "/home/sasa/Documents/code/KIAM/week4/venv/lib64/python3.13/site-packages/IPython/core/pylabtools.py:170: UserWarning: Glyph 4661 (\\N{ETHIOPIC SYLLABLE SE}) missing from font(s) DejaVu Sans.\n",
      "  fig.canvas.print_figure(bytes_io, **kw)\n",
      "/home/sasa/Documents/code/KIAM/week4/venv/lib64/python3.13/site-packages/IPython/core/pylabtools.py:170: UserWarning: Glyph 9415 (\\N{CIRCLED LATIN CAPITAL LETTER R}) missing from font(s) DejaVu Sans.\n",
      "  fig.canvas.print_figure(bytes_io, **kw)\n"
     ]
    },
    {
     "data": {
      "image/png": "[encoded data removed]",
      "text/plain": [
       "<Figure size 1200x600 with 1 Axes>"
      ]
     },
     "metadata": {},
     "output_type": "display_data"
    }
   ],
   "source": [
    "# Distribution of rows per channel\n",
    "channel_counts = df[\"Channel Title\"].value_counts()\n",
    "#plotting the distribution\n",
    "import matplotlib.pyplot as plt\n",
    "channel_counts.plot(kind='bar', figsize=(12, 6))\n",
    "\n",
    "\n"
   ]
  },
  {
   "cell_type": "code",
   "execution_count": 60,
   "id": "101e6256",
   "metadata": {},
   "outputs": [],
   "source": [
    "# drop rows if if there is no amharic text\n",
    "df = df[df[\"Message\"].apply(lambda x: any('\\u1200' <= char <= '\\u137F' for char in x))]"
   ]
  },
  {
   "cell_type": "code",
   "execution_count": 61,
   "id": "e06a7342",
   "metadata": {},
   "outputs": [
    {
     "data": {
      "text/plain": [
       "(19190, 6)"
      ]
     },
     "execution_count": 61,
     "metadata": {},
     "output_type": "execute_result"
    }
   ],
   "source": [
    "df.shape"
   ]
  },
  {
   "cell_type": "code",
   "execution_count": 72,
   "id": "2956f263",
   "metadata": {},
   "outputs": [],
   "source": [
    "import pandas as pd\n",
    "import ast\n",
    "\n",
    "# Load cleaned data\n",
    "df = pd.read_csv('../data/telegram_data_cleaned.csv')\n",
    "\n",
    "def to_list(x):\n",
    "    if isinstance(x, str) and x.startswith(\"[\") and x.endswith(\"]\"):\n",
    "        try:\n",
    "            return ast.literal_eval(x)\n",
    "        except:\n",
    "            return [x]\n",
    "    elif isinstance(x, list):\n",
    "        return x\n",
    "    else:\n",
    "        return [x]\n",
    "\n",
    "# Replace with your desired channel name\n",
    "channel_name = \"ልዩ እቃ\"\n",
    "\n",
    "# Filter by channel\n",
    "filtered = df[df[\"Channel Title\"] == channel_name]\n",
    "\n",
    "# Get the Message column, convert to list if needed\n",
    "messages = filtered[\"Message\"].apply(to_list)\n",
    "\n",
    "with open(\"messages_by_channel_words.txt\", \"w\", encoding=\"utf-8\") as f:\n",
    "    for msg in messages:\n",
    "        for word in msg:\n",
    "            f.write(str(word) + \"\\n\")\n",
    "        f.write(\"\\n\")"
   ]
  }
 ],
 "metadata": {
  "kernelspec": {
   "display_name": "venv",
   "language": "python",
   "name": "python3"
  },
  "language_info": {
   "codemirror_mode": {
    "name": "ipython",
    "version": 3
   },
   "file_extension": ".py",
   "mimetype": "text/x-python",
   "name": "python",
   "nbconvert_exporter": "python",
   "pygments_lexer": "ipython3",
   "version": "3.13.3"
  }
 },
 "nbformat": 4,
 "nbformat_minor": 5
}

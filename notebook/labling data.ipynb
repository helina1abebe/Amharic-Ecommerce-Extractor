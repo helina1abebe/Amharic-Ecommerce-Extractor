{
 "cells": [
  {
   "cell_type": "code",
   "execution_count": 2,
   "id": "bdef2c5c",
   "metadata": {},
   "outputs": [],
   "source": [
    "import pandas as pd\n",
    "df= pd.read_csv('../data/telegram_data_cleaned.csv')"
   ]
  },
  {
   "cell_type": "code",
   "execution_count": 4,
   "id": "3a9d1ab6",
   "metadata": {},
   "outputs": [],
   "source": [
    "import pandas as pd\n",
    "import ast\n",
    "\n",
    "# Load cleaned data\n",
    "df = pd.read_csv('../data/telegram_data_cleaned.csv')\n",
    "\n",
    "def to_list(x):\n",
    "    if isinstance(x, str) and x.startswith(\"[\") and x.endswith(\"]\"):\n",
    "        try:\n",
    "            return ast.literal_eval(x)\n",
    "        except:\n",
    "            return [x]\n",
    "    elif isinstance(x, list):\n",
    "        return x\n",
    "    else:\n",
    "        return [x]\n",
    "\n",
    "# Replace with your desired channel name\n",
    "channel_name = \"ልዩ እቃ\"\n",
    "\n",
    "# Filter by channel\n",
    "filtered = df[df[\"Channel Title\"] == channel_name]\n",
    "\n",
    "# Get the Message column, convert to list if needed\n",
    "messages = filtered[\"Message\"].apply(to_list)\n",
    "\n",
    "with open(\"../data/Processed/messages_by_channel_words.txt\", \"w\", encoding=\"utf-8\") as f:\n",
    "    for msg in messages:\n",
    "        for word in msg:\n",
    "            f.write(str(word) + \"\\n\")\n",
    "        f.write(\"\\n\")"
   ]
  }
 ],
 "metadata": {
  "kernelspec": {
   "display_name": "venv",
   "language": "python",
   "name": "python3"
  },
  "language_info": {
   "codemirror_mode": {
    "name": "ipython",
    "version": 3
   },
   "file_extension": ".py",
   "mimetype": "text/x-python",
   "name": "python",
   "nbconvert_exporter": "python",
   "pygments_lexer": "ipython3",
   "version": "3.13.3"
  }
 },
 "nbformat": 4,
 "nbformat_minor": 5
}
